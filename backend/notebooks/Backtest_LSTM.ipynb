{
 "cells": [
  {
   "cell_type": "code",
   "execution_count": null,
   "id": "d4fce3a5",
   "metadata": {},
   "outputs": [],
   "source": [
    "# parameters\n",
    "TICKER = globals().get('TICKER','AAPL')\n",
    "LOOKBACK = globals().get('LOOKBACK',60)\n",
    "HORIZON = globals().get('HORIZON',10)\n",
    "START_DATE = globals().get('START_DATE','2018-01-01')\n",
    "END_DATE = globals().get('END_DATE',None)\n",
    "OUTPUT_JSON = globals().get('OUTPUT_JSON','backtest.json')"
   ]
  },
  {
   "cell_type": "code",
   "execution_count": null,
   "id": "11c45b51",
   "metadata": {},
   "outputs": [],
   "source": [
    "from app.services.backtest import run_backtest\n",
    "res = run_backtest(TICKER, LOOKBACK, HORIZON, START_DATE, END_DATE)\n",
    "import json\n",
    "with open(OUTPUT_JSON,'w') as f:\n",
    "    json.dump(res,f)\n",
    "res"
   ]
  }
 ],
 "metadata": {
  "kernelspec": {
   "display_name": "Python 3",
   "language": "python",
   "name": "python3"
  },
  "language_info": {
   "name": "python"
  }
 },
 "nbformat": 4,
 "nbformat_minor": 5
}
